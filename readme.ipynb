{
 "cells": [
  {
   "cell_type": "markdown",
   "metadata": {},
   "source": [
    "# Project Title\n",
    "\n",
    "Le projet s'appelle \"Python Casino\". Il s'agit d'un programme codé en python et qui permet de simuler une réplique d'un jeu type casino directement via le terminal."
   ]
  },
  {
   "cell_type": "markdown",
   "metadata": {},
   "source": [
    "# Prerequisites\n",
    "\n",
    "Certains packages python nécessite d'être installé en amont afin de faire fonctionner correctement le programme.\n",
    "\n",
    "Voici la liste des packages à installer:\n",
    "\n",
    "-random\n",
    "-datetime\n",
    "-threading\n",
    "-select\n",
    "-json\n",
    "-pandas\n",
    "-numpy\n",
    "-matplotlib\n",
    "-seaborn\n",
    "\n",
    "Pour installer les packages, vous devez faire: pip install <nom_du_package>"
   ]
  },
  {
   "cell_type": "markdown",
   "metadata": {},
   "source": [
    "# Getting Started\n",
    "\n",
    "Pour lancer le programme casino.py, accédez au répertoire où se trouve le fichier casino.py.\n",
    "Ensuite tapez la commande: python casino.py\n",
    "\n",
    "Comme ceci:\n",
    "\n"
   ]
  },
  {
   "cell_type": "markdown",
   "metadata": {},
   "source": [
    "# Game Rules\n",
    "Voici le principe du jeu : \n",
    "Le programme pense à un nombre entre 1 et 10. Devinez lequel ?\n",
    "Attention : vous avez le droit à trois essais ! \n",
    "Si vous devinez mon nombre dès le premier coup:\n",
    "    -au niveau 1 vous doublez votre mise !!\n",
    "    -au niveau 2 vous triplez votre mise !!!\n",
    "    -au niveau 3 vous quintuplez votre mise !!!!!\n",
    "Si vous le devinez au 2è coup\n",
    "    -au niveau 1 vous gagnez exactement votre mise !\n",
    "    -au niveau 2 vous gagnez votre mise + 25% de votre mise\n",
    "    -au niveau 3 vous gagnez votre mise + 50% de votre mise\\n\n",
    "Si vous le devinez au 3è coup, vous gagnez la moitiè votre mise !\n",
    "    -au niveau 1 vous gagnez 20% de votre mise !\n",
    "    -au niveau 2 vous gagnez 33% de votre mise !\n",
    "    -au niveau 3 vous gagnez 50% de votre mise !\n",
    "Si vous ne le devinez pas au 3è coup, vous perdez votre mise et vous avez le droit :\n",
    "    -de retenter votre chance avec l'argent qu'il vous reste pour reconquérir le level perdu.\n",
    "    -de quitter le jeu. \\n\\n\n",
    "Dès que vous devinez mon nombre : vous avez le droit de quitter le jeu et de partir avec vos gains\n",
    "OU de continuer le jeu en passant au level supérieur."
   ]
  },
  {
   "cell_type": "markdown",
   "metadata": {},
   "source": [
    "# Versioning\n",
    "\n",
    "Le lien du repo github est trouvable à l'adresse suivante:\n",
    "\n",
    "https://github.com/nassimakif/a-team-bis-project\n"
   ]
  },
  {
   "cell_type": "markdown",
   "metadata": {},
   "source": [
    "# Authors\n",
    "\n",
    "La liste des contributeurs / auteurs du projet:\n",
    "\n",
    "-Sophie PHOUANGSY\n",
    "-Nassim AKIF\n",
    "-Salim BAMBA\n",
    "-Vincent BORDELAIS\n"
   ]
  }
 ],
 "metadata": {
  "kernelspec": {
   "display_name": "Python 3",
   "language": "python",
   "name": "python3"
  },
  "language_info": {
   "codemirror_mode": {
    "name": "ipython",
    "version": 3
   },
   "file_extension": ".py",
   "mimetype": "text/x-python",
   "name": "python",
   "nbconvert_exporter": "python",
   "pygments_lexer": "ipython3",
   "version": "3.7.6"
  }
 },
 "nbformat": 4,
 "nbformat_minor": 4
}
