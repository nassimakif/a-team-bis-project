{
 "cells": [
  {
   "cell_type": "code",
   "execution_count": 1,
   "metadata": {},
   "outputs": [
    {
     "ename": "SyntaxError",
     "evalue": "invalid syntax (<ipython-input-1-30a4295f173c>, line 1)",
     "output_type": "error",
     "traceback": [
      "\u001b[0;36m  File \u001b[0;32m\"<ipython-input-1-30a4295f173c>\"\u001b[0;36m, line \u001b[0;32m1\u001b[0m\n\u001b[0;31m    Je vous explique le principe du jeu :\u001b[0m\n\u001b[0m       ^\u001b[0m\n\u001b[0;31mSyntaxError\u001b[0m\u001b[0;31m:\u001b[0m invalid syntax\n"
     ]
    }
   ],
   "source": [
    "# Retour les regles du jeu\n",
    "def regle():\n",
    "    str = \"\"\"Je vous explique le principe du jeu :  \\n\n",
    "Je viens de penser à un nombre entre 1 et 10. Devinez lequel ?\\n \n",
    "Attention : vous avez le droit à trois essais ! \\n \n",
    "\\t* Si vous devinez mon nombre dès le premier coup:\n",
    "\\t- au niveau 1 vous doublez votre mise !!\n",
    "\\t- au niveau 2 vous triplez votre mise !!!\n",
    "\\t- au niveau 3 vous quintuplez votre mise !!!!!\\n\n",
    "\\t* Si vous le devinez au 2è coup\n",
    "\\t- au niveau 1 vous gagnez exactement votre mise !\n",
    "\\t- au niveau 2 vous gagnez votre mise + 25% de votre mise\n",
    "\\t- au niveau 3 vous gagnez votre mise + 50% de votre mise\\n\n",
    "\\t* Si vous le devinez au 3è coup, vous gagnez la moitiè votre mise !\n",
    "\\t- au niveau 1 vous gagnez 20% de votre mise !\n",
    "\\t- au niveau 2 vous gagnez 33% de votre mise !\n",
    "\\t- au niveau 3 vous gagnez 50% de votre mise !\\n\n",
    "\\t* Si vous ne le devinez pas au 3è coup, vous perdez votre mise et vous avez le droit :\n",
    "\\t - de retenter votre chance avec l'argent qu'il vous reste pour reconquérir le level perdu.\n",
    "\\t - de quitter le jeu. \\n\\n\n",
    "Dès que vous devinez mon nombre : vous avez le droit de quitter le jeu et de partir avec vos gains\n",
    "OU de continuer le jeu en passant au level supérieur.\\n\n",
    "\"\"\"\n",
    "\n",
    "    return str\n",
    "\n"
   ]
  },
  {
   "cell_type": "code",
   "execution_count": null,
   "metadata": {},
   "outputs": [],
   "source": []
  }
 ],
 "metadata": {
  "kernelspec": {
   "display_name": "Python 3",
   "language": "python",
   "name": "python3"
  },
  "language_info": {
   "codemirror_mode": {
    "name": "ipython",
    "version": 3
   },
   "file_extension": ".py",
   "mimetype": "text/x-python",
   "name": "python",
   "nbconvert_exporter": "python",
   "pygments_lexer": "ipython3",
   "version": "3.8.3"
  }
 },
 "nbformat": 4,
 "nbformat_minor": 4
}
